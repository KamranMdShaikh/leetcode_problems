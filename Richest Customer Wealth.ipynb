{
 "cells": [
  {
   "cell_type": "markdown",
   "metadata": {},
   "source": [
    "### Problem no: 1672\n",
    "### Richest Customer Wealth\n",
    "\n",
    "You are given an m x n integer grid accounts where accounts[i][j] is the amount of money the ith customer has in the jth bank. Return the wealth that the richest customer has.\n",
    "\n",
    "A customer's wealth is the amount of money they have in all their bank accounts. The richest customer is the customer that has the maximum wealth.\n",
    "\n",
    "\n",
    "\n",
    "Input: accounts = [[1,5],[7,3],[3,5]]\n",
    "\n",
    "Output: 10\n",
    "\n",
    "Explanation: \n",
    "\n",
    "1st customer has wealth = 6\n",
    "\n",
    "2nd customer has wealth = 10 \n",
    "\n",
    "3rd customer has wealth = 8\n",
    "\n",
    "The 2nd customer is the richest with a wealth of 10."
   ]
  },
  {
   "cell_type": "code",
   "execution_count": 1,
   "metadata": {},
   "outputs": [],
   "source": [
    "import numpy as np\n",
    "def maximumWealth(accounts):\n",
    "    sumn=[]\n",
    "    for x in accounts:\n",
    "        c=np.sum(x)\n",
    "        sumn.append(c)\n",
    "    sumn.sort()\n",
    "    return(sumn[-1])"
   ]
  },
  {
   "cell_type": "code",
   "execution_count": 2,
   "metadata": {},
   "outputs": [
    {
     "data": {
      "text/plain": [
       "10"
      ]
     },
     "execution_count": 2,
     "metadata": {},
     "output_type": "execute_result"
    }
   ],
   "source": [
    "accounts = [[1,5],[7,3],[3,5]]\n",
    "maximumWealth(accounts)"
   ]
  }
 ],
 "metadata": {
  "kernelspec": {
   "display_name": "Python 3",
   "language": "python",
   "name": "python3"
  },
  "language_info": {
   "codemirror_mode": {
    "name": "ipython",
    "version": 3
   },
   "file_extension": ".py",
   "mimetype": "text/x-python",
   "name": "python",
   "nbconvert_exporter": "python",
   "pygments_lexer": "ipython3",
   "version": "3.7.6"
  }
 },
 "nbformat": 4,
 "nbformat_minor": 4
}
